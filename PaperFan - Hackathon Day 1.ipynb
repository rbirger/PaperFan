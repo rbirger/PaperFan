{
 "metadata": {
  "name": ""
 },
 "nbformat": 3,
 "nbformat_minor": 0,
 "worksheets": [
  {
   "cells": [
    {
     "cell_type": "markdown",
     "metadata": {},
     "source": [
      "###Notes for the PaperFan project\n",
      "This notebook will contain preliminary notes for our work on PaperFan\n",
      "\n",
      "First thing: create a paper class with the metadata\n",
      "\n",
      "Paper class should have:\n",
      "\n",
      "* author(s)\n",
      "* title\n",
      "* journal\n",
      "* year\n",
      "* references\n",
      "* paper that led you to it\n",
      "* overlap percentage (how many of its refs are in your library already)\n",
      "* Notes\n",
      "* project tag\n"
     ]
    },
    {
     "cell_type": "code",
     "collapsed": false,
     "input": [
      "from rpy2 import *\n",
      "%load_ext rmagic"
     ],
     "language": "python",
     "metadata": {},
     "outputs": [],
     "prompt_number": 246
    },
    {
     "cell_type": "code",
     "collapsed": false,
     "input": [
      "import re"
     ],
     "language": "python",
     "metadata": {},
     "outputs": [],
     "prompt_number": 257
    },
    {
     "cell_type": "code",
     "collapsed": false,
     "input": [
      "#Construct empty dictionary for project tags\n",
      "projtags = {'AAA': 'Project A', 'BBB': 'Project B'}\n",
      "\n",
      "#Create function to edit content of notes\n",
      "def edit_paper_notes(orig_note, retries):\n",
      "    editnote = raw_input(\"Do you want to add more notes? (y/n)\")\n",
      "    if editnote in ('y', 'yes', 'Y', 'YES', 'Yes'):\n",
      "        #if yes, concatenate new notes\n",
      "        newnote = raw_input(\"Add notes here:\") \n",
      "        orig_note = orig_note + \" \" + newnote\n",
      "        #print editednote\n",
      "        return orig_note\n",
      "    elif editnote in ('n', 'no', 'N', 'NO', 'No'):\n",
      "        print \"OK\"\n",
      "        editednote = orig_note\n",
      "        return editednote\n",
      "    else: \n",
      "        retries -=1\n",
      "        if retries <0:\n",
      "            print \"Quitting\"\n",
      "        else:\n",
      "            print \"Please enter y or n\"      \n",
      "            edit_paper_notes(orig_note, retries)\n",
      "            \n",
      "            \n",
      "def addParentPaper(parentpaper, retries):\n",
      "    addpaper = raw_input(\"Do you want to add more notes? (y/n)\")\n",
      "    if editnote in ('y', 'yes', 'Y', 'YES', 'Yes'):\n",
      "        #if yes, concatenate new notes\n",
      "        newnote = raw_input(\"Add notes here:\") \n",
      "        orig_note = orig_note + \" \" + newnote\n",
      "        #print editednote\n",
      "        return orig_note\n",
      "    elif editnote in ('n', 'no', 'N', 'NO', 'No'):\n",
      "        print \"OK\"\n",
      "        editednote = orig_note\n",
      "        return editednote\n",
      "    else: \n",
      "        retries -=1\n",
      "        if retries <0:\n",
      "            print \"Quitting\"\n",
      "        else:\n",
      "            print \"Please enter y or n\"      \n",
      "            edit_paper_notes(orig_note, retries)\n",
      "            \n",
      "        "
     ],
     "language": "python",
     "metadata": {},
     "outputs": [],
     "prompt_number": 198
    },
    {
     "cell_type": "code",
     "collapsed": false,
     "input": [
      "#Define the Paper class\n",
      "class Paper:\n",
      "    'Class for categorizing all entries of papers'\n",
      "    #count of all instances of class paper\n",
      "    total_papers = 0\n",
      "    #init is the stuff that we'll get from crossref\n",
      "    def __init__(self, **kwargs):\n",
      "        self.__dict__.update(kwargs)\n",
      "        Paper.total_papers +=1\n",
      "#     def __init__(self, authors, title, journal, year,volume, doi, references):\n",
      "#         self.authors = authors\n",
      "#         self.title = title\n",
      "#         self.journal = journal\n",
      "#         self.year = year\n",
      "#         self.volume =volume\n",
      "#         self.doi = doi\n",
      "#         self.references = references\n",
      "         \n",
      "\n",
      "    #String reprsentation of the class\n",
      "    def __str__(self):\n",
      "        return 'This is %d by %d' % (self.title, self.author)\n",
      "   \n",
      "    #Give the paper a project tag. It can either be tagged as part of an\n",
      "    #existing project, or a new project tag can be created\n",
      "    \n",
      "    def getProjectTag(self):\n",
      "        print \"Tag\", \"Project\"\n",
      "        for key, value in projtags.items():\n",
      "            print key, value\n",
      "        tag = raw_input(\"Choose a project tag or enter a new project name (make sure tag is unique):\")\n",
      "        if tag in projtags.keys():\n",
      "            self.projecttag = projtags[tag]\n",
      "        else:\n",
      "            self.projecttag = tag\n",
      "            newtag = tag[:3].upper();\n",
      "            projtags[newtag] = tag\n",
      "            \n",
      "    #Add notes to the instance of paper\n",
      "    def editProjectNotes(self):\n",
      "        #check to see if notes already exist\n",
      "        if hasattr(self, 'notes'):\n",
      "            #print \"I have notes\"\n",
      "            self.notes = edit_paper_notes(self.notes,4)\n",
      "            print self.notes\n",
      "#             #if it exists, print the content and ask if user wants to add more content\n",
      "#             print self.notes\n",
      "#             editnote = raw_input(\"Do you want to add more notes? (y/n)\")\n",
      "#             if editnote == 'y':\n",
      "#                 #if yes, concatenate new notes\n",
      "#                newnote = raw_input(\"Add notes here:\") \n",
      "#                self.notes = self.notes + \"\\n\" + newnote\n",
      "#             elif editnote == 'n':\n",
      "#                 print \"OK\"\n",
      "#             else: \n",
      "#                 print \"Please enter y or n\"\n",
      "#                 editnote = raw_input(\"Do you want to add more notes? (y/n)\")\n",
      "        else:\n",
      "            newnote = raw_input(\"Enter Notes for this paper:\")\n",
      "            self.notes = newnote\n",
      "            \n",
      " #make a dictionary with string names and paper classes\n",
      "            #look up linked lists\n",
      "        def addParentpaper(self):\n",
      "            if hasattr(self,Parentpaper):\n",
      "                newparent = raw_input(\"Do you want to enter a new parent paper?\")\n",
      "                \n",
      "            \n",
      "        \n",
      "    \n",
      "                  \n",
      "#paper1 = Paper('Ruthie Birger','This is a Paper','Journal of things','2014','My References')\n",
      "\n",
      "#paper1.getProjectTag()\n",
      "\n",
      "    "
     ],
     "language": "python",
     "metadata": {},
     "outputs": [],
     "prompt_number": 225
    },
    {
     "cell_type": "code",
     "collapsed": false,
     "input": [
      "paper1 = Paper(['Ruthie Birger', 'Emma Fuller'],'This is a Paper','Journal of things','2014','Volume I', 'doiiii','My References')"
     ],
     "language": "python",
     "metadata": {},
     "outputs": [],
     "prompt_number": 200
    },
    {
     "cell_type": "code",
     "collapsed": false,
     "input": [
      "paper1.editProjectNotes()"
     ],
     "language": "python",
     "metadata": {},
     "outputs": [
      {
       "name": "stdout",
       "output_type": "stream",
       "stream": "stdout",
       "text": [
        "Do you want to add more notes? (y/n)sdfsd\n"
       ]
      },
      {
       "output_type": "stream",
       "stream": "stdout",
       "text": [
        "Please enter y or n\n"
       ]
      },
      {
       "name": "stdout",
       "output_type": "stream",
       "stream": "stdout",
       "text": [
        "Do you want to add more notes? (y/n)sdfsd\n"
       ]
      },
      {
       "output_type": "stream",
       "stream": "stdout",
       "text": [
        "Please enter y or n\n"
       ]
      },
      {
       "name": "stdout",
       "output_type": "stream",
       "stream": "stdout",
       "text": [
        "Do you want to add more notes? (y/n)sdgsd\n"
       ]
      },
      {
       "output_type": "stream",
       "stream": "stdout",
       "text": [
        "Please enter y or n\n"
       ]
      },
      {
       "name": "stdout",
       "output_type": "stream",
       "stream": "stdout",
       "text": [
        "Do you want to add more notes? (y/n)sdfsd\n"
       ]
      },
      {
       "output_type": "stream",
       "stream": "stdout",
       "text": [
        "Please enter y or n\n"
       ]
      },
      {
       "name": "stdout",
       "output_type": "stream",
       "stream": "stdout",
       "text": [
        "Do you want to add more notes? (y/n)sds\n"
       ]
      },
      {
       "output_type": "stream",
       "stream": "stdout",
       "text": [
        "Quitting\n",
        "None\n"
       ]
      }
     ],
     "prompt_number": 202
    },
    {
     "cell_type": "code",
     "collapsed": false,
     "input": [
      "BirgerFuller2014 = Paper(authors = ['Ruthie Birger', 'Emma Fuller'],title ='This is a Paper',\n",
      "                         journal = 'Journal of things', year ='2014',volume ='Volume I', \n",
      "                         doi ='doiiii',references ='My References')"
     ],
     "language": "python",
     "metadata": {},
     "outputs": [],
     "prompt_number": 236
    },
    {
     "cell_type": "code",
     "collapsed": false,
     "input": [
      "BirgerFuller2014.__str__"
     ],
     "language": "python",
     "metadata": {},
     "outputs": [
      {
       "metadata": {},
       "output_type": "pyout",
       "prompt_number": 238,
       "text": [
        "<bound method Paper.__str__ of <__main__.Paper instance at 0x104ea3050>>"
       ]
      }
     ],
     "prompt_number": 238
    },
    {
     "cell_type": "code",
     "collapsed": false,
     "input": [
      "print projtags.keys()"
     ],
     "language": "python",
     "metadata": {},
     "outputs": [
      {
       "output_type": "stream",
       "stream": "stdout",
       "text": [
        "['AAA', 'BBB']\n"
       ]
      }
     ],
     "prompt_number": 240
    },
    {
     "cell_type": "code",
     "collapsed": false,
     "input": [
      "BirgerFuller2014.getProjectTag()"
     ],
     "language": "python",
     "metadata": {},
     "outputs": [
      {
       "output_type": "stream",
       "stream": "stdout",
       "text": [
        "Tag Project\n",
        "AAA Project A\n",
        "BBB Project B\n"
       ]
      },
      {
       "name": "stdout",
       "output_type": "stream",
       "stream": "stdout",
       "text": [
        "Choose a project tag or enter a new project name (make sure tag is unique):Paperfan Project\n"
       ]
      }
     ],
     "prompt_number": 242
    },
    {
     "cell_type": "code",
     "collapsed": false,
     "input": [
      "BirgerFuller2014.projecttag"
     ],
     "language": "python",
     "metadata": {},
     "outputs": [
      {
       "metadata": {},
       "output_type": "pyout",
       "prompt_number": 243,
       "text": [
        "'Paperfan Project'"
       ]
      }
     ],
     "prompt_number": 243
    },
    {
     "cell_type": "code",
     "collapsed": false,
     "input": [
      "d1 =\"10.1126/science.1239352\"\n",
      "%Rpush d1\n",
      "%R library(knitcitations)\n",
      "%R foo = ref(d1)\n",
      "%Rpull foo"
     ],
     "language": "python",
     "metadata": {},
     "outputs": [],
     "prompt_number": 250
    },
    {
     "cell_type": "code",
     "collapsed": false,
     "input": [
      "bar = str(foo[0,1])\n",
      "print bar\n",
      "print len(bar)\n",
      "print len(foo[0,0])\n",
      "world = re.findall(r'\"([^\"]*)\"', bar)\n",
      "print world"
     ],
     "language": "python",
     "metadata": {},
     "outputs": [
      {
       "output_type": "stream",
       "stream": "stdout",
       "text": [
        "[1] \"M. L. Pinsky\"    \"B. Worm\"         \"M. J. Fogarty\"   \"J. L. Sarmiento\"\n",
        "[5] \"S. A. Levin\"    \n",
        "\n",
        "98\n",
        "1\n",
        "['M. L. Pinsky', 'B. Worm', 'M. J. Fogarty', 'J. L. Sarmiento', 'S. A. Levin']\n"
       ]
      }
     ],
     "prompt_number": 260
    },
    {
     "cell_type": "code",
     "collapsed": false,
     "input": [
      "for item in projtags.items():\n",
      "    print item[0],\":\", item[1]\n",
      "                        "
     ],
     "language": "python",
     "metadata": {},
     "outputs": [
      {
       "output_type": "stream",
       "stream": "stdout",
       "text": [
        "A : Project A\n",
        "B : Project B\n"
       ]
      }
     ],
     "prompt_number": 27
    },
    {
     "cell_type": "code",
     "collapsed": false,
     "input": [
      "projtags.iteritems"
     ],
     "language": "python",
     "metadata": {},
     "outputs": [
      {
       "metadata": {},
       "output_type": "pyout",
       "prompt_number": 29,
       "text": [
        "<function iteritems>"
       ]
      }
     ],
     "prompt_number": 29
    },
    {
     "cell_type": "code",
     "collapsed": false,
     "input": [
      "'A' in projtags.keys()"
     ],
     "language": "python",
     "metadata": {},
     "outputs": [
      {
       "metadata": {},
       "output_type": "pyout",
       "prompt_number": 30,
       "text": [
        "True"
       ]
      }
     ],
     "prompt_number": 30
    },
    {
     "cell_type": "code",
     "collapsed": false,
     "input": [
      "edit_paper_notes(x, 4)"
     ],
     "language": "python",
     "metadata": {},
     "outputs": [
      {
       "name": "stdout",
       "output_type": "stream",
       "stream": "stdout",
       "text": [
        "Do you want to add more notes? (y/n)yes\n"
       ]
      },
      {
       "name": "stdout",
       "output_type": "stream",
       "stream": "stdout",
       "text": [
        "Add notes here:more notes\n"
       ]
      },
      {
       "output_type": "stream",
       "stream": "stdout",
       "text": [
        "This is a note\n",
        "more notes\n"
       ]
      },
      {
       "metadata": {},
       "output_type": "pyout",
       "prompt_number": 151,
       "text": [
        "'This is a note\\nmore notes'"
       ]
      }
     ],
     "prompt_number": 151
    },
    {
     "cell_type": "code",
     "collapsed": false,
     "input": [
      "#print foo[0,0]\n",
      "title_test = re.findall(r'\"([^\"]*)\"', str(foo[0,0]))\n",
      "authors_test = re.findall(r'\"([^\"]*)\"', str(foo[0,1]))\n",
      "papertest = Paper(authors = authors_test, title = title_test)"
     ],
     "language": "python",
     "metadata": {},
     "outputs": [],
     "prompt_number": 268
    },
    {
     "cell_type": "code",
     "collapsed": false,
     "input": [
      "papertest.authors"
     ],
     "language": "python",
     "metadata": {},
     "outputs": [
      {
       "metadata": {},
       "output_type": "pyout",
       "prompt_number": 269,
       "text": [
        "['M. L. Pinsky', 'B. Worm', 'M. J. Fogarty', 'J. L. Sarmiento', 'S. A. Levin']"
       ]
      }
     ],
     "prompt_number": 269
    },
    {
     "cell_type": "code",
     "collapsed": false,
     "input": [
      "papertest."
     ],
     "language": "python",
     "metadata": {},
     "outputs": []
    }
   ],
   "metadata": {}
  }
 ]
}